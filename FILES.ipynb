{
  "nbformat": 4,
  "nbformat_minor": 0,
  "metadata": {
    "colab": {
      "provenance": []
    },
    "kernelspec": {
      "name": "python3",
      "display_name": "Python 3"
    },
    "language_info": {
      "name": "python"
    }
  },
  "cells": [
    {
      "cell_type": "markdown",
      "source": [
        "THEORY QUESTIONS.\n",
        "\n",
        "1.What is the difference between interpreted and compiled languages?\n",
        "\n",
        "ANS.Interpreted languages are executed directly by an interpreter, which reads and executes the code line by line without converting it into machine code first.\n",
        " In contrast, compiled languages are converted into machine code that the processor can execute directly, which allows them to run faster and more efficiently.\n",
        " With compiled languages, the source code needs to be compiled into machine code before it can be run, whereas interpreted languages can be run directly without this step.\n",
        " Additionally, compiled languages typically require a build step where the code is manually compiled, necessitating a rebuild every time changes are made, while interpreted languages can be modified and run immediately.\n",
        "\n",
        " 2.What is exception handling in Python?\n",
        "\n",
        " ANS.Exception handling in Python is a process that allows the program to respond to errors that occur during execution, rather than crashing abruptly. It enables you to catch and manage errors, making your code more robust and user-friendly.\n",
        "\n",
        " 3.What is the purpose of the finally block in exception handling?\n",
        "\n",
        " ANS.The purpose of the finally block in exception handling is to ensure that specific code is executed regardless of whether an exception occurs or not. This block is crucial for performing cleanup tasks such as closing files or releasing resources, which are essential to maintain program integrity even if an error occurs during execution.\n",
        "\n",
        " 4.What is logging in Python?\n",
        "\n",
        " ANS.Logging in Python is a means of tracking events that happen when some software runs. Developers add logging calls to their code to indicate that certain events have occurred, such as the execution of a function or the occurrence of an error.\n",
        " These events are described by a message and can optionally contain variable data specific to the event. Events also have a level or severity assigned by the developer, which can be DEBUG, INFO, WARNING, ERROR, or CRITICAL.\n",
        " The logging module in Python provides a flexible framework for writing log messages from Python code, allowing developers to configure different log handlers and route log messages to these handlers.\n",
        "\n",
        " 5.What is the significance of the __del__ method in Python?\n",
        "\n",
        " ANS.The del method in Python is a special method that is called when an object is about to be destroyed by Python's garbage collector, typically when an object's reference count drops to zero.\n",
        " This method allows an object to perform cleanup actions, such as closing files, releasing locks, or closing network connections, before it is destroyed.\n",
        " However, it is important to note that the del method is not a destructor in the traditional sense, as the garbage collector is responsible for destroying the object, not the del method.\n",
        "\n",
        " 6.What is the difference between import and from ... import in Python?\n",
        "\n",
        " ANS.In Python, the import statement and the from ... import statement serve similar purposes but operate differently.\n",
        "\n",
        "The import statement is used to import a module or a module's attribute into the current namespace. This allows you to access the module's attributes by prefixing them with the module name. For example, to import the math module, you would use the statement import math. Then, to access the sqrt() function, you would use math.sqrt().\n",
        "\n",
        "On the other hand, the from ... import statement is used to import specific attributes from a module into the current namespace. With this statement, you can import only the attributes that you need, rather than the entire module. For example, to import just the sqrt() function from the math module, you would use the statement from math import sqrt.\n",
        "\n",
        "7.How can you handle multiple exceptions in Python?\n",
        "\n",
        "ANS.In Python, you can handle multiple exceptions in a single except block by specifying multiple exception types inside parentheses. This allows you to handle different types of exceptions in the same block of code.\n",
        "\n",
        "8.What is the purpose of the with statement when handling files in Python?\n",
        "\n",
        "ANS.The with statement in Python is used for resource management and exception handling, particularly when working with files. It simplifies file handling by ensuring that files are automatically closed after operations are completed, regardless of whether an error occurs.\n",
        " This statement replaces traditional try-finally blocks, making the code cleaner and more readable.\n",
        " For example, when opening a file using the with statement, the file is automatically closed after the block of code is executed, even if an exception is raised during file operations.\n",
        "\n",
        " 9.What is the difference between multithreading and multiprocessing?\n",
        "\n",
        " ANS.Multiprocessing and multithreading are both techniques used to improve computing efficiency, but they operate differently. Multiprocessing uses multiple CPUs to run many processes simultaneously, increasing the computing power of the system.\n",
        " In contrast, multithreading creates multiple threads within a single process to execute tasks in parallel, aiming to increase the throughput of the system.\n",
        " Multiprocessing is classified into symmetric and asymmetric multiprocessing, while multithreading does not have such classifications.\n",
        " Process creation in multiprocessing is time-consuming, whereas thread creation in multithreading is more economical and efficient.\n",
        " Additionally, in multiprocessing, each process has its own separate address space, while in multithreading, all threads share a common address space.\n",
        "\n",
        " 10.What are the advantages of using logging in a program?\n",
        "\n",
        " ANS.Using logging in a program offers several advantages, including improved troubleshooting and debugging capabilities.\n",
        " Logs can help developers monitor application performance and pinpoint areas of poor performance or errors.\n",
        " Additionally, logging tools can save organizations money on storage by automatically sending log data to the cloud, which is more affordable than on-premises solutions.\n",
        " Cloud logging tools are also scalable, allowing organizations to pay only for what they log and avoid storage capacity issues.\n",
        " Furthermore, logging provides increased flexibility in access and monitoring, enabling tech pros to view logs from anywhere.\n",
        " Logs can be searched and filtered for specific information, making it easier to focus on relevant data.\n",
        " This is particularly useful for debugging scripts after they have failed.\n",
        "\n",
        " 11.What is memory management in Python?\n",
        "\n",
        " ANS.Memory management in Python involves the automatic allocation and deallocation of memory for program objects and data structures, managed by a private heap space.\n",
        " This heap is internally handled by the Python memory manager, ensuring efficient use of memory resources throughout the program's execution.\n",
        " Python uses both dynamic and static memory allocation techniques. Dynamic allocation occurs during program execution, allowing for flexible memory usage, while static allocation happens before the program runs, predetermining memory distribution.\n",
        " The garbage collector operates in the background, freeing up memory when objects are no longer needed, and it is triggered when the reference count of an object reaches zero.\n",
        "\n",
        " 12.What are the basic steps involved in exception handling in Python?\n",
        "\n",
        " ANS.Exception handling in Python involves several key steps to manage errors and unusual conditions that may occur during program execution. The primary components are the try, except, else, and finally blocks.\n",
        "\n",
        "Try Block: This block contains the code that might raise an exception. If an exception occurs, the rest of the code in the try block is skipped.\n",
        "\n",
        "Except Block: This block catches and handles the exception. You can specify multiple except blocks to handle different types of exceptions.\n",
        "\n",
        "Else Block: This block is optional and executes if no exceptions are raised in the try block.\n",
        "\n",
        "Finally Block: This block is also optional and contains code that will always execute, regardless of whether an exception was raised or not. It is useful for cleanup activities such as closing files or releasing resources.\n",
        "\n",
        "13.Why is memory management important in Python?\n",
        "\n",
        "ANS.Memory management is crucial in Python because it ensures efficient use of memory and prevents issues like memory leaks.\n",
        " Proper memory management helps in optimizing memory usage, which is particularly important when working with large datasets in data science and machine learning applications.\n",
        " Python's automatic memory management, including garbage collection, helps by freeing up unused memory, but it's also important to write memory-efficient code and choose appropriate data structures to minimize the program's memory footprint.\n",
        "\n",
        "Effective memory allocation is necessary to avoid problems that can arise when running out of memory, such as memory leaks.\n",
        " Memory leaks occur when the program allocates memory but fails to release it, leading to degraded performance over time.\n",
        " Understanding and implementing proper memory management techniques can help in building robust and efficient applications.\n",
        "\n",
        " 14.What is the role of try and except in exception handling?\n",
        "\n",
        " ANS.In Python, the try and except blocks are used to handle errors and exceptions within the code without crashing the program.\n",
        " The try block is used to execute code that might raise an exception, and if an error occurs, the except block is executed to handle the exception.\n",
        " This allows the program to continue running even if an error occurs, by providing a way to manage and respond to the error.\n",
        "\n",
        " 15.How does Python's garbage collection system work?\n",
        "\n",
        " ANS.Python's garbage collection system uses a hybrid approach combining reference counting and generational garbage collection to manage memory efficiently.\n",
        " Reference counting tracks the number of references to an object, and when an object's reference count reaches zero, it is deleted from memory.\n",
        " However, reference counting cannot handle circular references, where two or more objects refer to each other, preventing them from being garbage collected.\n",
        "\n",
        "To address this issue, Python employs generational garbage collection, which divides objects into different generations based on their longevity and frequency of change.\n",
        " Generation 0 contains the youngest and most recently created objects, while generation 2 contains objects that have survived multiple garbage collection cycles.\n",
        " When a garbage collection cycle is triggered, Python first performs reference counting on generation 0 objects. If an object is part of a circular reference, it is moved to generation 1.\n",
        "\n",
        "Python uses a mark-and-sweep algorithm for generational garbage collection on generations 1 and 2. This algorithm marks all objects reachable from root objects and then sweeps through the objects, deleting those that are not marked.\n",
        " This process helps in identifying and reclaiming memory occupied by objects that are no longer in use, preventing memory leaks.\n",
        "\n",
        "The garbage collector is triggered automatically based on a threshold of object allocations and deallocations.\n",
        " However, for long-running applications or embedded systems, manual garbage collection may be necessary to ensure optimal memory management.\n",
        "\n",
        " 16.What is the purpose of the else block in exception handling?\n",
        "\n",
        " ANS.In exception handling, the else block in a try-except structure is used to execute code when no exceptions are raised in the try block. This means the code within the else block runs only if the try block completes successfully without any errors. For example, if you have a try block that performs a risky operation, the else block can be used to execute code that depends on the successful completion of that operation.The else block is executed immediately after the try block if no exceptions are raised, allowing you to perform actions that should only occur when the try block succeeds without any errors.\n",
        "\n",
        " 17.What are the common logging levels in Python?\n",
        "\n",
        " ANS.The common logging levels in Python are DEBUG, INFO, WARNING, ERROR, and CRITICAL. These levels are arranged in increasing order of severity. The DEBUG level is used to log detailed information useful only when diagnosing problems.\n",
        " The INFO level confirms that things are working as expected.\n",
        " The WARNING level indicates that something unexpected happened or is indicative of a problem in the near future.\n",
        " The ERROR level records an error where a part of the application did not work as expected, and the code execution did not succeed.\n",
        " The CRITICAL level records a mission-critical event, and failing to fix it can potentially cause the application to stop working.\n",
        "\n",
        "By default, the logging module captures only WARNING and higher-level logs.\n",
        " Developers can configure the logging level to include lower-priority logs if needed for detailed analysis.\n",
        "\n",
        " 18.What is the difference between os.fork() and multiprocessing in Python?\n",
        "\n",
        " ANS.In Python, os.fork() and multiprocessing serve different purposes and have distinct behaviors. os.fork() is a lower-level system call that creates a new process by duplicating the existing process, which is efficient for sharing data between parent and child processes but can be memory-intensive. On the other hand, multiprocessing is a higher-level interface that abstracts the process creation, offering more control and isolation between processes, making it suitable for scenarios where you want to avoid interference between processes and ensure safety and stability.\n",
        "\n",
        "os.fork() is primarily used on Unix-like systems and does not exist on Windows, whereas multiprocessing is available on both Unix-like systems and Windows, providing a cross-platform solution for creating and managing processes.\n",
        " When using multiprocessing, the start method can be set to fork or spawn, where fork creates a copy of the existing process, similar to os.fork(), and spawn creates a new process with a clean memory space, reducing the risk of memory-related issues.\n",
        "\n",
        "In summary, os.fork() is a direct system call for process duplication, while multiprocessing is a higher-level library that simplifies process management and offers more flexibility and isolation.\n",
        "\n",
        "19.What is the importance of closing a file in Python?\n",
        "\n",
        "ANS.Closing a file in Python is crucial for freeing up system resources like memory and file descriptors, ensuring efficient usage of resources by other programs or processes.\n",
        " It also ensures that the buffer is flushed and all data is written to the file, maintaining data consistency and preventing loss of information.\n",
        " Properly closing a file is a good programming practice that helps prevent potential issues and improves program readability and maintainability.\n",
        " Additionally, closing files can minimize the occurrence of errors related to concurrent access or locked resources.\n",
        " If a file is not properly closed, it can lead to memory leaks, which can slow down your program or even cause it to crash.\n",
        " Not closing a file can also cause data corruption, especially when writing data to the file, as changes might not be saved correctly until the file is properly closed.\n",
        "\n",
        " 20.What is the difference between file.read() and file.readline() in Python?\n",
        "\n",
        " ANS.In Python, file.read() reads the entire contents of a file into a string, or you can specify the number of characters to read using an optional argument.\n",
        " On the other hand, file.readline() reads a single line from the file, including the newline character, and returns it as a string.\n",
        "\n",
        "When using readline(), if you provide an argument like readline(7), it will read up to 7 characters from the current line, but it will still return the entire line if it is shorter than 7 characters.\n",
        " If the argument exceeds the number of characters in the line, it will return the remaining characters in the line.\n",
        "\n",
        " 21.What is the logging module in Python used for?\n",
        "\n",
        " ANS.The logging module in Python is used to track events that occur during the execution of a program, which can help in identifying the cause of problems if the code crashes.\n",
        " It provides a flexible framework for emitting log messages from Python programs and is widely used by libraries and recommended for any modular Python programming.\n",
        "\n",
        "The logging module includes several components such as loggers, handlers, and formatters.\n",
        " Loggers are used to emit log messages at different log levels (DEBUG, INFO, WARNING, ERROR, CRITICAL).\n",
        " Handlers determine where the log messages are sent, such as to the console or a file.\n",
        " Formatters specify the format of the log messages.\n",
        "\n",
        "The logging levels range from DEBUG, which provides detailed information typically only of interest to a developer trying to diagnose a problem, to CRITICAL, which indicates a serious error that may prevent the program from continuing to run.\n",
        "\n",
        "By using the logging module, developers can leave a trail of breadcrumbs that can help in determining the cause of a problem, especially in complex scripts where printing statements may not be sufficient.\n",
        "\n",
        "22.What is the os module in Python used for in file handling?\n",
        "\n",
        "ANS.The os module in Python is used for file handling to perform low-level read/write operations on files and to manage file descriptors. It provides functions like os.read(fd, n) to read at most n bytes from a file descriptor, returning a string containing the bytes read.\n",
        " Additionally, the os module can be used to open files for writing data by specifying modes like O_WRONLY and O_CREAT, and it requires converting strings to byte strings using the encode() function before writing.\n",
        " The os module also includes functions for file operations that are operating system independent, allowing it to work on both Windows and Linux environments.\n",
        "\n",
        " 23.What are the challenges associated with memory management in Python?\n",
        "\n",
        " ANS.Memory management in Python presents several challenges, particularly when working with large datasets or complex data structures. One major issue is the potential for memory leaks, where the system fails to release memory taken up by objects that are no longer in use.\n",
        " This can occur when an object is referenced by another object but the reference is never removed, preventing the garbage collector from deallocating the unused object from memory.\n",
        "\n",
        "Another challenge is the performance impact of frequent memory allocation and deallocation requests to the operating system. When a Python program requests memory greater than 512 bytes from the operating system, it can take a significant amount of time compared to allocating smaller objects, which are assigned memory from pre-allocated chunks.\n",
        " This can degrade the performance of an application, especially if it frequently allocates and deallocates large amounts of memory.\n",
        "\n",
        " 24.How do you raise an exception manually in Python?\n",
        "\n",
        " ANS.To manually raise an exception in Python, you can use the raise keyword followed by the type of exception you want to raise. For example, to raise a ValueError exception, you would use raise ValueError. You can also include an optional error message that provides additional information about the exception.\n",
        "\n",
        " 25.Why is it important to use multithreading in certain applications?\n",
        "\n",
        " ANS.is important in certain applications because it enhances performance and efficiency by utilizing available CPU resources more effectively.\n",
        " It allows a program to execute multiple threads concurrently, taking advantage of parallelism and reducing overall execution time.\n",
        " This can improve the responsiveness of applications that involve user interaction, as separating time-consuming tasks from the main thread prevents the user interface from freezing or becoming unresponsive.\n",
        " Additionally, multithreading can enable better resource utilization, such as in server applications where multiple threads can handle incoming client requests simultaneously, allowing the server to serve more clients concurrently.\n",
        " Furthermore, multithreading can facilitate better code organization and modularity by dividing complex tasks into smaller, manageable units of execution, making the code easier to understand and maintain."
      ],
      "metadata": {
        "id": "3pxsvKeK_bLG"
      }
    },
    {
      "cell_type": "markdown",
      "source": [
        "PRACTICAL QUESTIONS."
      ],
      "metadata": {
        "id": "a_17VlVVH-6x"
      }
    },
    {
      "cell_type": "markdown",
      "source": [
        "1.How can you open a file for writing in Python and write a string to it?"
      ],
      "metadata": {
        "id": "qBHQBbIJI-ez"
      }
    },
    {
      "cell_type": "code",
      "source": [
        "my_string = \"Hello, world!\"\n",
        "\n",
        "with open(\"my_file.txt\", \"w\") as file:\n",
        "    file.write(my_string)"
      ],
      "metadata": {
        "id": "9sTquDQUT8Mw"
      },
      "execution_count": 2,
      "outputs": []
    },
    {
      "cell_type": "markdown",
      "source": [
        "2.Write a Python program to read the contents of a file and print each line."
      ],
      "metadata": {
        "id": "89MIdAU8JLPj"
      }
    },
    {
      "cell_type": "code",
      "source": [
        "def read_and_print_lines(file_path):\n",
        "    \"\"\"Reads a file and prints each line.\"\"\"\n",
        "    try:\n",
        "        with open(file_path, 'r') as file:\n",
        "            for line in file:\n",
        "                print(line, end='')\n",
        "    except FileNotFoundError:\n",
        "        print(f\"Error: The file '{file_path}' was not found.\")\n",
        "    except Exception as e:\n",
        "        print(f\"An error occurred: {e}\")\n",
        "\n",
        "# Let's say your file is named 'my_document.txt'\n",
        "file_name = 'my_document.txt'\n",
        "read_and_print_lines(file_name)"
      ],
      "metadata": {
        "colab": {
          "base_uri": "https://localhost:8080/"
        },
        "id": "FtTpv7GrJQRJ",
        "outputId": "edda0ba9-0c9d-4cb0-de90-99e7ab7e4ad1"
      },
      "execution_count": 3,
      "outputs": [
        {
          "output_type": "stream",
          "name": "stdout",
          "text": [
            "Error: The file 'my_document.txt' was not found.\n"
          ]
        }
      ]
    },
    {
      "cell_type": "markdown",
      "source": [
        "3.How would you handle a case where the file doesn't exist while trying to open it for reading?"
      ],
      "metadata": {
        "id": "nm_N1F0lJQxe"
      }
    },
    {
      "cell_type": "code",
      "source": [
        "file_path = \"non_existent_file.txt\"\n",
        "\n",
        "try:\n",
        "    with open(file_path, 'r') as file:\n",
        "        # Do something with the file contents here\n",
        "        for line in file:\n",
        "            print(line, end='')\n",
        "except FileNotFoundError:\n",
        "    print(f\"Oops! The file at '{file_path}' wasn't found. Make sure the path is correct.\")\n",
        "except Exception as e:\n",
        "    print(f\"An unexpected error occurred: {e}\")"
      ],
      "metadata": {
        "colab": {
          "base_uri": "https://localhost:8080/"
        },
        "id": "4r8wWWPwJW7_",
        "outputId": "450039f4-da8f-4104-b463-a338798b08a0"
      },
      "execution_count": 4,
      "outputs": [
        {
          "output_type": "stream",
          "name": "stdout",
          "text": [
            "Oops! The file at 'non_existent_file.txt' wasn't found. Make sure the path is correct.\n"
          ]
        }
      ]
    },
    {
      "cell_type": "markdown",
      "source": [
        "4.Write a Python script that reads from one file and writes its content to another file."
      ],
      "metadata": {
        "id": "rSWY--WoJX0M"
      }
    },
    {
      "cell_type": "code",
      "source": [
        "def copy_file_content(source_path, destination_path):\n",
        "    \"\"\"Reads the content of the source file and writes it to the destination file.\"\"\"\n",
        "    try:\n",
        "        with open(source_path, 'r') as source_file:\n",
        "            try:\n",
        "                with open(destination_path, 'w') as destination_file:\n",
        "                    for line in source_file:\n",
        "                        destination_file.write(line)\n",
        "                    print(f\"Successfully copied content from '{source_path}' to '{destination_path}'.\")\n",
        "            except Exception as e:\n",
        "                print(f\"Error writing to '{destination_path}': {e}\")\n",
        "    except FileNotFoundError:\n",
        "        print(f\"Error: Source file '{source_path}' not found.\")\n",
        "    except Exception as e:\n",
        "        print(f\"An unexpected error occurred: {e}\")\n",
        "\n",
        "# Specify the paths of your source and destination files\n",
        "source_file = 'input.txt'  # Replace with the actual path to your source file\n",
        "destination_file = 'output.txt'  # Replace with the desired path for your destination file\n",
        "\n",
        "copy_file_content(source_file, destination_file)"
      ],
      "metadata": {
        "colab": {
          "base_uri": "https://localhost:8080/"
        },
        "id": "9Z5bQ4NAKOR8",
        "outputId": "95eca1dd-73b2-4a09-deb2-513248cdb0d8"
      },
      "execution_count": 5,
      "outputs": [
        {
          "output_type": "stream",
          "name": "stdout",
          "text": [
            "Error: Source file 'input.txt' not found.\n"
          ]
        }
      ]
    },
    {
      "cell_type": "markdown",
      "source": [
        "5.How would you catch and handle division by zero error in Python?"
      ],
      "metadata": {
        "id": "YAq5FRHRKO0I"
      }
    },
    {
      "cell_type": "code",
      "source": [
        "try:\n",
        "    result = numerator / denominator\n",
        "    print(f\"The result of the division is: {result}\")\n",
        "except ZeroDivisionError:\n",
        "    print(\"Oops! You can't divide by zero. That's mathematically undefined.\")\n",
        "except TypeError:\n",
        "    print(\"Error: Please make sure both numerator and denominator are numbers.\")\n",
        "except Exception as e:\n",
        "    print(f\"An unexpected error occurred: {e}\")"
      ],
      "metadata": {
        "colab": {
          "base_uri": "https://localhost:8080/"
        },
        "id": "B5Vm93a4KU-J",
        "outputId": "23c7a17d-6d02-48bd-e949-e6b05f301336"
      },
      "execution_count": 6,
      "outputs": [
        {
          "output_type": "stream",
          "name": "stdout",
          "text": [
            "An unexpected error occurred: name 'numerator' is not defined\n"
          ]
        }
      ]
    },
    {
      "cell_type": "markdown",
      "source": [
        "6.Write a Python program that logs an error message to a log file when a division by zero exception occurs."
      ],
      "metadata": {
        "id": "rJuH4GccKVhC"
      }
    },
    {
      "cell_type": "code",
      "source": [
        "import logging\n",
        "import datetime\n",
        "\n",
        "# Configure logging to write to a file\n",
        "log_file = 'division_errors.log'\n",
        "logging.basicConfig(filename=log_file, level=logging.ERROR,\n",
        "                    format='%(asctime)s - %(levelname)s - %(message)s')\n",
        "\n",
        "def perform_division(numerator, denominator):\n",
        "    \"\"\"Performs division and logs an error if division by zero occurs.\"\"\"\n",
        "    try:\n",
        "        result = numerator / denominator\n",
        "        return result\n",
        "    except ZeroDivisionError:\n",
        "        error_message = f\"Attempted division by zero with numerator: {numerator}\"\n",
        "        logging.error(error_message)\n",
        "        return None  # Or raise a custom exception if needed\n",
        "    except TypeError as e:\n",
        "        error_message = f\"Type error during division: {e}\"\n",
        "        logging.error(error_message)\n",
        "        return None\n",
        "    except Exception as e:\n",
        "        error_message = f\"An unexpected error occurred during division: {e}\"\n",
        "        logging.error(error_message)\n",
        "        return None\n"
      ],
      "metadata": {
        "id": "TEe18RyyKa4A"
      },
      "execution_count": 7,
      "outputs": []
    },
    {
      "cell_type": "code",
      "source": [
        "numerator1 = 10\n",
        "denominator1 = 2\n",
        "result1 = perform_division(numerator1, denominator1)\n",
        "if result1 is not None:\n",
        "    print(f\"Result of {numerator1} / {denominator1}: {result1}\")\n",
        "\n",
        "numerator2 = 5\n",
        "denominator2 = 0\n",
        "result2 = perform_division(numerator2, denominator2)\n",
        "if result2 is None:\n",
        "    print(f\"Division of {numerator2} by {denominator2} resulted in an error (logged).\")\n",
        "\n",
        "numerator3 = \"hello\"\n",
        "denominator3 = 5\n",
        "result3 = perform_division(numerator3, denominator3)\n",
        "if result3 is None:\n",
        "    print(f\"Division of {numerator3} by {denominator3} resulted in an error (logged).\")\n",
        "\n",
        "print(f\"\\nCheck the log file '{log_file}' for error details.\")"
      ],
      "metadata": {
        "colab": {
          "base_uri": "https://localhost:8080/"
        },
        "id": "ndAzdlgkWRef",
        "outputId": "4110713e-6029-4180-a2bb-b7591631f994"
      },
      "execution_count": 8,
      "outputs": [
        {
          "output_type": "stream",
          "name": "stderr",
          "text": [
            "ERROR:root:Attempted division by zero with numerator: 5\n",
            "ERROR:root:Type error during division: unsupported operand type(s) for /: 'str' and 'int'\n"
          ]
        },
        {
          "output_type": "stream",
          "name": "stdout",
          "text": [
            "Result of 10 / 2: 5.0\n",
            "Division of 5 by 0 resulted in an error (logged).\n",
            "Division of hello by 5 resulted in an error (logged).\n",
            "\n",
            "Check the log file 'division_errors.log' for error details.\n"
          ]
        }
      ]
    },
    {
      "cell_type": "markdown",
      "source": [
        "7.How do you log information at different levels (INFO, ERROR, WARNING) in Python using the logging module."
      ],
      "metadata": {
        "id": "9fIPWhl_Kbgg"
      }
    },
    {
      "cell_type": "code",
      "source": [
        "logging.basicConfig(level=logging.INFO,  # Set the minimum level to capture\n",
        "                    format='%(asctime)s - %(levelname)s - %(message)s')"
      ],
      "metadata": {
        "id": "L1D_MkomKgUT"
      },
      "execution_count": 9,
      "outputs": []
    },
    {
      "cell_type": "markdown",
      "source": [
        "8.Write a program to handle a file opening error using exception handling."
      ],
      "metadata": {
        "id": "_NYoHehbKg2g"
      }
    },
    {
      "cell_type": "code",
      "source": [
        "def open_file_safely(file_path, mode='r'):\n",
        "    \"\"\"\n",
        "    Attempts to open a file and handles potential FileNotFoundError and other exceptions.\n",
        "\n",
        "    Args:\n",
        "        file_path (str): The path to the file.\n",
        "        mode (str, optional): The mode in which to open the file ('r' for read, 'w' for write, etc.). Defaults to 'r'.\n",
        "\n",
        "    Returns:\n",
        "        file object or None: Returns the file object if the file is opened successfully,\n",
        "                             otherwise returns None.\n",
        "    \"\"\"\n",
        "    file = None\n",
        "    try:\n",
        "        file = open(file_path, mode)\n",
        "        print(f\"Successfully opened file: '{file_path}' in '{mode}' mode.\")\n",
        "        return file\n",
        "    except FileNotFoundError:\n",
        "        print(f\"Error: The file '{file_path}' was not found.\")\n",
        "    except PermissionError:\n",
        "        print(f\"Error: Permission denied to open file '{file_path}'.\")\n",
        "    except Exception as e:\n",
        "        print(f\"An unexpected error occurred while opening '{file_path}': {e}\")\n",
        "    finally:\n",
        "  # The 'finally' block ensures that if the file was opened\n",
        "        # but an error occurred later (though unlikely immediately after opening),\n",
        "        # it will still be closed. However, in this specific function,\n",
        "        # if 'open()' fails, 'file' will be None, and this won't do anything.\n",
        "        # For more complex scenarios involving file operations after opening,\n",
        "        # this becomes more relevant.\n",
        "        if file:\n",
        "            # It's generally better to let the calling function handle closing\n",
        "            # if the file was successfully opened and returned.\n",
        "            # file.close()\n",
        "            pass\n",
        "        return None\n",
        "\n",
        "def read_from_file(file_object):\n",
        "    \"\"\"Reads and prints each line from an opened file object.\"\"\"\n",
        "    if file_object:\n",
        "        try:\n",
        "            print(\"\\nContents of the file:\")\n",
        "            for line in file_object:\n",
        "                print(line, end='')\n",
        "        except Exception as e:\n",
        "            print(f\"An error occurred while reading the file: {e}\")\n",
        "        finally:\n",
        "            file_object.close()\n",
        "            print(\"\\nFile closed.\")\n",
        "    else:\n",
        "        print(\"No file object to read from.\")\n",
        "def write_to_file(file_object, content):\n",
        "    \"\"\"Writes content to an opened file object.\"\"\"\n",
        "    if file_object:\n",
        "        try:\n",
        "            file_object.write(content)\n",
        "            print(\"Content successfully written to the file.\")\n",
        "        except Exception as e:\n",
        "            print(f\"An error occurred while writing to the file: {e}\")\n",
        "        finally:\n",
        "            file_object.close()\n",
        "            print(\"File closed.\")\n",
        "    else:\n",
        "        print(\"No file object to write to.\")\n"
      ],
      "metadata": {
        "id": "3tqtBqA-KmM-"
      },
      "execution_count": 10,
      "outputs": []
    },
    {
      "cell_type": "code",
      "source": [
        "# Example usage for reading\n",
        "file_to_read = \"example.txt\"  # Replace with a file that might or might not exist\n",
        "read_file = open_file_safely(file_to_read, 'r')\n",
        "read_from_file(read_file)\n",
        "\n",
        "print(\"-\" * 30)\n",
        "\n",
        "# Example usage for writing\n",
        "file_to_write = \"output.txt\"\n",
        "write_file = open_file_safely(file_to_write, 'w')\n",
        "if write_file:\n",
        "    write_to_file(write_file, \"This is some text to write to the file.\\nAnother line.\")\n",
        "\n",
        "print(\"-\" * 30)\n",
        "\n",
        "# Example of a file that doesn't exist\n",
        "non_existent_file = \"does_not_exist.txt\"\n",
        "non_existent = open_file_safely(non_existent_file, 'r')\n",
        "read_from_file(non_existent)"
      ],
      "metadata": {
        "colab": {
          "base_uri": "https://localhost:8080/"
        },
        "id": "WnM5ukNPXQwb",
        "outputId": "789d5cfa-8f6a-494c-9de4-790b4bae2dbc"
      },
      "execution_count": 11,
      "outputs": [
        {
          "output_type": "stream",
          "name": "stdout",
          "text": [
            "Successfully opened file: 'example.txt' in 'r' mode.\n",
            "No file object to read from.\n",
            "------------------------------\n",
            "Successfully opened file: 'output.txt' in 'w' mode.\n",
            "------------------------------\n",
            "Error: The file 'does_not_exist.txt' was not found.\n",
            "No file object to read from.\n"
          ]
        }
      ]
    },
    {
      "cell_type": "markdown",
      "source": [
        "9.How can you read a file line by line and store its content in a list in Python?"
      ],
      "metadata": {
        "id": "oUJ79b3CKmw7"
      }
    },
    {
      "cell_type": "code",
      "source": [
        "def read_file_to_list_loop(file_path):\n",
        "    \"\"\"Reads a file line by line and stores each line in a list.\"\"\"\n",
        "    content_list = []\n",
        "    try:\n",
        "        with open(file_path, 'r') as file:\n",
        "            for line in file:\n",
        "                # line already includes the newline character at the end\n",
        "                # If you don't want it, you can strip it:\n",
        "                content_list.append(line.rstrip('\\n'))\n",
        "                # Or just: content_list.append(line) if you want to keep the newline\n",
        "        return content_list\n",
        "    except FileNotFoundError:\n",
        "        print(f\"Error: File '{file_path}' not found.\")\n",
        "        return None\n",
        "    except Exception as e:\n",
        "        print(f\"An error occurred: {e}\")\n",
        "        return None\n"
      ],
      "metadata": {
        "id": "G2HKwpYAKtEr"
      },
      "execution_count": 12,
      "outputs": []
    },
    {
      "cell_type": "code",
      "source": [
        "# Example usage\n",
        "file_name = 'my_document.txt'  # Replace with your file name\n",
        "lines = read_file_to_list_loop(file_name)\n",
        "\n",
        "if lines:\n",
        "    # Example usage\n",
        "    file_name = 'my_document.txt'  # Replace with your file name\n",
        "    lines = read_file_to_list_loop(file_name)\n",
        "\n",
        "    if lines:\n",
        "        print(\"File content as a list:\")\n",
        "        for index, line in enumerate(lines):\n",
        "            print(f\"Line {index + 1}: '{line}'\")"
      ],
      "metadata": {
        "colab": {
          "base_uri": "https://localhost:8080/"
        },
        "id": "0WBjN5oeX71Z",
        "outputId": "44e83984-ea6a-4b02-8f22-67b923a297cd"
      },
      "execution_count": 15,
      "outputs": [
        {
          "output_type": "stream",
          "name": "stdout",
          "text": [
            "Error: File 'my_document.txt' not found.\n"
          ]
        }
      ]
    },
    {
      "cell_type": "markdown",
      "source": [
        "10.How can you append data to an existing file in Python?"
      ],
      "metadata": {
        "id": "6FwKxlYaKt3f"
      }
    },
    {
      "cell_type": "code",
      "source": [
        "def append_to_file(file_path, data_to_append):\n",
        "    \"\"\"Appends data to an existing file.\n",
        "\n",
        "    Args:\n",
        "        file_path (str): The path to the file.\n",
        "        data_to_append (str): The string data to append to the file.\n",
        "    \"\"\"\n",
        "    try:\n",
        "        with open(file_path, 'a') as file:\n",
        "            file.write(data_to_append)\n",
        "        print(f\"Successfully appended data to '{file_path}'.\")\n",
        "    except FileNotFoundError:\n",
        "        print(f\"Error: File '{file_path}' not found. It will be created.\")\n",
        "        # If the file doesn't exist in append mode, it usually gets created.\n",
        "        # We can try writing to it now.\n",
        "        try:\n",
        "            with open(file_path, 'w') as file:\n",
        "                file.write(data_to_append)\n",
        "            print(f\"File '{file_path}' created and data written.\")\n",
        "        except Exception as e:\n",
        "            print(f\"An error occurred while creating and writing to '{file_path}': {e}\")\n",
        "    except Exception as e:\n",
        "        print(f\"An error occurred while appending to '{file_path}': {e}\")"
      ],
      "metadata": {
        "id": "HC480NmJK2NS"
      },
      "execution_count": 16,
      "outputs": []
    },
    {
      "cell_type": "code",
      "source": [
        "# Example usage\n",
        "file_name = 'my_log.txt'\n",
        "new_entry = \"This is a new log entry.\\n\"\n",
        "\n",
        "append_to_file(file_name, new_entry)\n",
        "\n",
        "another_entry = \"Another piece of information.\\n\"\n",
        "append_to_file(file_name, another_entry)\n",
        "\n",
        "# Let's try appending to a file that might not exist yet\n",
        "# Example usage\n",
        "file_name = 'my_log.txt'\n",
        "new_entry = \"This is a new log entry.\\n\"\n",
        "\n",
        "append_to_file(file_name, new_entry)\n",
        "\n",
        "another_entry = \"Another piece of information.\\n\"\n",
        "append_to_file(file_name, another_entry)\n",
        "\n",
        "# Let's try appending to a file that might not exist yet\n",
        "new_file = 'fresh_data.txt'\n",
        "initial_data = \"Initial data for the new file.\\n\"\n",
        "append_to_file(new_file, initial_data)"
      ],
      "metadata": {
        "colab": {
          "base_uri": "https://localhost:8080/"
        },
        "id": "NWrpqa2CYdFe",
        "outputId": "d650bed8-c9ce-4a92-962a-2c008ceda1be"
      },
      "execution_count": 18,
      "outputs": [
        {
          "output_type": "stream",
          "name": "stdout",
          "text": [
            "Successfully appended data to 'my_log.txt'.\n",
            "Successfully appended data to 'my_log.txt'.\n",
            "Successfully appended data to 'my_log.txt'.\n",
            "Successfully appended data to 'my_log.txt'.\n",
            "Successfully appended data to 'fresh_data.txt'.\n"
          ]
        }
      ]
    },
    {
      "cell_type": "markdown",
      "source": [
        "11.Write a Python program that uses a try-except block to handle an error when attempting to access a\n",
        "dictionary key that doesn't exist."
      ],
      "metadata": {
        "id": "pm4w599GK2or"
      }
    },
    {
      "cell_type": "code",
      "source": [
        "def access_dictionary_key_safely(my_dict, key):\n",
        "    \"\"\"\n",
        "    Attempts to access a key in a dictionary and handles KeyError if it doesn't exist.\n",
        "\n",
        "    Args:\n",
        "        my_dict (dict): The dictionary to access.\n",
        "        key: The key to look for in the dictionary.\n",
        "\n",
        "    Returns:\n",
        "        The value associated with the key if it exists, otherwise None.\n",
        "    \"\"\"\n",
        "    try:\n",
        "        value = my_dict[key]\n",
        "        print(f\"Value for key '{key}': {value}\")\n",
        "        return value\n",
        "    except KeyError:\n",
        "        print(f\"Error: Key '{key}' not found in the dictionary.\")\n",
        "        return None\n",
        "    except Exception as e:\n",
        "        print(f\"An unexpected error occurred: {e}\")\n",
        "        return None\n"
      ],
      "metadata": {
        "id": "JVq37V85MFZc"
      },
      "execution_count": 19,
      "outputs": []
    },
    {
      "cell_type": "code",
      "source": [
        "# Example dictionary\n",
        "data = {'name': 'Alice', 'age': 30, 'city': 'New York'}\n",
        "\n",
        "# Trying to access existing keys\n",
        "access_dictionary_key_safely(data, 'name')\n",
        "access_dictionary_key_safely(data, 'age')\n",
        "\n",
        "print(\"-\" * 20)\n",
        "\n",
        "# Trying to access a non-existent key\n",
        "result = access_dictionary_key_safely(data, 'occupation')\n",
        "if result is None:\n",
        "    print(\"Attempt to access 'occupation' returned None.\")\n",
        "\n",
        "print(\"-\" * 20)\n",
        "# Example dictionary\n",
        "data = {'name': 'Alice', 'age': 30, 'city': 'New York'}\n",
        "\n",
        "# Trying to access existing keys\n",
        "def access_dictionary_key_safely(data, key):\n",
        "    return data.get(key)\n",
        "\n",
        "print(access_dictionary_key_safely(data, 'name'))\n",
        "print(access_dictionary_key_safely(data, 'age'))\n",
        "\n",
        "print(\"-\" * 20)\n",
        "\n",
        "# Trying to access a non-existent key\n",
        "result = access_dictionary_key_safely(data, 'occupation')\n",
        "if result is None:\n",
        "    print(\"Attempt to access 'occupation' returned None.\")\n",
        "\n",
        "print(\"-\" * 20)\n",
        "\n",
        "# Trying to access another non-existent key\n",
        "print(access_dictionary_key_safely(data, 'country'))"
      ],
      "metadata": {
        "colab": {
          "base_uri": "https://localhost:8080/"
        },
        "id": "B5U5YLsWY_sC",
        "outputId": "1d9b224b-572e-4bfb-c822-1de216b4dc02"
      },
      "execution_count": 21,
      "outputs": [
        {
          "output_type": "stream",
          "name": "stdout",
          "text": [
            "Value for key 'name': Alice\n",
            "Value for key 'age': 30\n",
            "--------------------\n",
            "Error: Key 'occupation' not found in the dictionary.\n",
            "Attempt to access 'occupation' returned None.\n",
            "--------------------\n",
            "Alice\n",
            "30\n",
            "--------------------\n",
            "Attempt to access 'occupation' returned None.\n",
            "--------------------\n",
            "None\n"
          ]
        }
      ]
    },
    {
      "cell_type": "markdown",
      "source": [
        "12.Write a program that demonstrates using multiple except blocks to handle different types of exceptions."
      ],
      "metadata": {
        "id": "NrKYZnxeMGIB"
      }
    },
    {
      "cell_type": "code",
      "source": [
        "def perform_operations(numerator_str, denominator_str, data_list, index_str):\n",
        "    \"\"\"\n",
        "    Performs division and list access, handling potential ValueError, ZeroDivisionError, and IndexError.\n",
        "\n",
        "    Args:\n",
        "        numerator_str (str): String representation of the numerator.\n",
        "        denominator_str (str): String representation of the denominator.\n",
        "        data_list (list): A list of data.\n",
        "        index_str (str): String representation of the index to access in the list.\n",
        "    \"\"\"\n",
        "    try:\n",
        "        numerator = int(numerator_str)\n",
        "        denominator = int(denominator_str)\n",
        "        result = numerator / denominator\n",
        "        print(f\"Division result: {result}\")\n",
        "\n",
        "        index = int(index_str)\n",
        "        list_element = data_list[index]\n",
        "        print(f\"Element at index {index}: {list_element}\")\n",
        "\n",
        "    except ValueError:\n",
        "        print(\"Error: Please provide valid integer inputs for numerator, denominator, and index.\")\n",
        "    except ZeroDivisionError:\n",
        "        print(\"Error: Cannot divide by zero.\")\n",
        "    except IndexError: # Fixed indentation for this line\n",
        "        print(\"Error: Index is out of range for the list.\")\n",
        "    except Exception as e:\n",
        "        print(f\"An unexpected error occurred: {e}\")"
      ],
      "metadata": {
        "id": "kOEB1-5UZqAS"
      },
      "execution_count": 24,
      "outputs": []
    },
    {
      "cell_type": "code",
      "source": [
        "# Example usage with valid inputs\n",
        "perform_operations(\"10\", \"2\", [100, 200, 300], \"1\")\n",
        "print(\"-\" * 20)\n",
        "\n",
        "# Example causing a ValueError (for numerator)\n",
        "perform_operations(\"abc\", \"5\", [10, 20], \"0\")\n",
        "print(\"-\" * 20)\n",
        "\n",
        "# Example causing a ValueError (for index)\n",
        "perform_operations(\"5\", \"1\", [5, 10], \"two\")\n",
        "print(\"-\" * 20)\n",
        "\n",
        "# Example causing a ZeroDivisionError\n",
        "perform_operations(\"8\", \"0\", [1, 2, 3], \"0\")\n",
        "print(\"-\" * 20)\n",
        "\n",
        "# Example causing an IndexError\n",
        "perform_operations(\"7\", \"3\", [10, 20], \"5\")\n",
        "print(\"-\" * 20)\n",
        "# Example usage with valid inputs\n",
        "perform_operations(\"10\", \"2\", [100, 200, 300], \"1\")\n",
        "print(\"-\" * 20)\n",
        "\n",
        "# Example causing a ValueError (for numerator)\n",
        "perform_operations(\"abc\", \"5\", [10, 20], \"0\")\n",
        "print(\"-\" * 20)\n",
        "\n",
        "# Example causing a ValueError (for index)\n",
        "perform_operations(\"5\", \"1\", [5, 10], \"two\")\n",
        "print(\"-\" * 20)\n",
        "\n",
        "# Example causing a ZeroDivisionError\n",
        "perform_operations(\"8\", \"0\", [1, 2, 3], \"0\")\n",
        "print(\"-\" * 20)\n",
        "\n",
        "# Example causing an IndexError\n",
        "perform_operations(\"7\", \"3\", [10, 20], \"5\")\n",
        "print(\"-\" * 20)\n",
        "\n",
        "# Example with mixed potential errors (only the first one encountered will be caught)\n",
        "perform_operations(\"hello\", \"0\", [1, 2], \"99\")"
      ],
      "metadata": {
        "colab": {
          "base_uri": "https://localhost:8080/"
        },
        "id": "XJYc5NPqZsD0",
        "outputId": "1950b972-06e9-4790-facb-30f22981323d"
      },
      "execution_count": 26,
      "outputs": [
        {
          "output_type": "stream",
          "name": "stdout",
          "text": [
            "Division result: 5.0\n",
            "Element at index 1: 200\n",
            "--------------------\n",
            "Error: Please provide valid integer inputs for numerator, denominator, and index.\n",
            "--------------------\n",
            "Division result: 5.0\n",
            "Error: Please provide valid integer inputs for numerator, denominator, and index.\n",
            "--------------------\n",
            "Error: Cannot divide by zero.\n",
            "--------------------\n",
            "Division result: 2.3333333333333335\n",
            "Error: Index is out of range for the list.\n",
            "--------------------\n",
            "Division result: 5.0\n",
            "Element at index 1: 200\n",
            "--------------------\n",
            "Error: Please provide valid integer inputs for numerator, denominator, and index.\n",
            "--------------------\n",
            "Division result: 5.0\n",
            "Error: Please provide valid integer inputs for numerator, denominator, and index.\n",
            "--------------------\n",
            "Error: Cannot divide by zero.\n",
            "--------------------\n",
            "Division result: 2.3333333333333335\n",
            "Error: Index is out of range for the list.\n",
            "--------------------\n",
            "Error: Please provide valid integer inputs for numerator, denominator, and index.\n"
          ]
        }
      ]
    },
    {
      "cell_type": "markdown",
      "source": [
        "14.Write a program that uses the logging module to log both informational and error messages."
      ],
      "metadata": {
        "id": "s1Szp115MRO-"
      }
    },
    {
      "cell_type": "code",
      "source": [
        "import logging\n",
        "\n",
        "# Configure logging\n",
        "logging.basicConfig(level=logging.INFO,  # Set the minimum level to log\n",
        "                    format='%(asctime)s - %(levelname)s - %(message)s',\n",
        "                    filename='app.log',  # Optional: Log to a file\n",
        "                    filemode='w')       # Optional: Overwrite the log file on each run\n",
        "\n",
        "def divide(numerator, denominator):\n",
        "    \"\"\"Divides two numbers and logs the operation and any errors.\"\"\"\n",
        "    logging.info(f\"Attempting to divide {numerator} by {denominator}\")\n",
        "import logging\n",
        "\n",
        "# Configure logging\n",
        "logging.basicConfig(level=logging.INFO,  # Set the minimum level to log\n",
        "                    format='%(asctime)s - %(levelname)s - %(message)s',\n",
        "                    filename='app.log',  # Optional: Log to a file\n",
        "                    filemode='w')       # Optional: Overwrite the log file on each run\n",
        "\n",
        "def divide(numerator, denominator):\n",
        "    \"\"\"Divides two numbers and logs the operation and any errors.\"\"\"\n",
        "    logging.info(f\"Attempting to divide {numerator} by {denominator}\")\n",
        "    try:\n",
        "        result = numerator / denominator\n",
        "        logging.info(f\"Division successful. Result: {result}\")\n",
        "        return result\n",
        "    except ZeroDivisionError:\n",
        "        logging.error(\"Error: Cannot divide by zero.\")\n",
        "        return None\n",
        "    except Exception as e:\n",
        "        logging.exception(f\"An unexpected error occurred: {e}\")\n",
        "        return None"
      ],
      "metadata": {
        "id": "9YLIQN0UbPeh"
      },
      "execution_count": 35,
      "outputs": []
    },
    {
      "cell_type": "markdown",
      "source": [
        "17.Write a Python program to create and write a list of numbers to a file, one number per line."
      ],
      "metadata": {
        "id": "iTcdXDxoM_0M"
      }
    },
    {
      "cell_type": "code",
      "source": [
        "def write_numbers_to_file(numbers, file_path):\n",
        "    \"\"\"Writes a list of numbers to a file, one number per line.\n",
        "\n",
        "    Args:\n",
        "        numbers (list): A list of numbers (integers or floats).\n",
        "        file_path (str): The path to the file to be created or overwritten.\n",
        "    \"\"\"\n",
        "    try:\n",
        "        with open(file_path, 'w') as file:\n",
        "            for number in numbers:\n",
        "                file.write(str(number) + '\\n')\n",
        "        print(f\"Successfully wrote {len(numbers)} numbers to '{file_path}'.\")\n",
        "    except Exception as e:\n",
        "        print(f\"An error occurred while writing to '{file_path}': {e}\")\n",
        "\n",
        "# Example usage\n",
        "number_list = [1, 2.5, 3, 4.78, 5, 6.0, 7]\n",
        "output_file = 'numbers.txt'\n",
        "\n",
        "write_numbers_to_file(number_list, output_file)\n",
        "\n",
        "# You can then check the 'numbers.txt' file in the same directory\n",
        "# to see the numbers written one per line."
      ],
      "metadata": {
        "colab": {
          "base_uri": "https://localhost:8080/"
        },
        "id": "waVBXo5FNF-t",
        "outputId": "7752a245-bb8c-4853-a32e-74fb3d7c1876"
      },
      "execution_count": 36,
      "outputs": [
        {
          "output_type": "stream",
          "name": "stdout",
          "text": [
            "Successfully wrote 7 numbers to 'numbers.txt'.\n"
          ]
        }
      ]
    },
    {
      "cell_type": "markdown",
      "source": [
        "19.Write a program that handles both IndexError and KeyError using a try-except block."
      ],
      "metadata": {
        "id": "bXsyNxEHNO_z"
      }
    },
    {
      "cell_type": "code",
      "source": [
        "def access_data(data, index=None, key=None):\n",
        "    \"\"\"\n",
        "    Attempts to access data from a list using an index or a dictionary using a key,\n",
        "    handling both IndexError and KeyError.\n",
        "\n",
        "    Args:\n",
        "        data (list or dict): The data structure to access.\n",
        "        index (int, optional): The index to access if data is a list. Defaults to None.\n",
        "        key: The key to access if data is a dictionary. Defaults to None.\n",
        "    \"\"\"\n",
        "    try:\n",
        "        if isinstance(data, list):\n",
        "            if index is not None:\n",
        "                value = data[index]\n",
        "                print(f\"List element at index {index}: {value}\")\n",
        "            else:\n",
        "                print(\"Please provide an index to access the list.\")\n",
        "        elif isinstance(data, dict):\n",
        "            if key is not None:\n",
        "                value = data[key]\n",
        "                print(f\"Dictionary value for key '{key}': {value}\")\n",
        "            else:\n",
        "                print(\"Please provide a key to access the dictionary.\")\n",
        "        else:\n",
        "            print(\"Data is neither a list nor a dictionary.\") # Fixed indentation here\n",
        "    except IndexError:\n",
        "        print(f\"Error: Index {index} is out of range for the list.\")\n",
        "    except KeyError:\n",
        "        print(f\"Error: Key '{key}' not found in the dictionary.\")\n",
        "    except TypeError as e:\n",
        "        print(f\"Error: Invalid input types. {e}\")\n",
        "    except Exception as e:\n",
        "        print(f\"An unexpected error occurred: {e}\")"
      ],
      "metadata": {
        "id": "UdzPeBoDgn1K"
      },
      "execution_count": 44,
      "outputs": []
    },
    {
      "cell_type": "code",
      "source": [
        "# Example usage with a list\n",
        "my_list = [10, 20, 30]\n",
        "access_data(my_list, index=1)\n",
        "access_data(my_list, index=5)  # This will cause an IndexError\n",
        "access_data(my_list, key='name') # This will not cause a KeyError here, but the logic won't access it correctly\n",
        "\n",
        "print(\"-\" * 20)\n",
        "\n",
        "# Example usage with a dictionary\n",
        "my_dict = {'name': 'Bob', 'age': 25}\n",
        "access_data(my_dict, key='age')\n",
        "access_data(my_dict, key='city')  # This will cause a KeyError\n",
        "access_data(my_dict, index=0)  # This will not cause an IndexError here, but the logic won't access it correctly\n",
        "\n",
        "print(\"-\" * 20)\n",
        "\n",
        "# Example usage with a list\n",
        "my_list = [10, 20, 30]\n",
        "access_data(my_list, index=1)\n",
        "access_data(my_list, index=5)  # This will cause an IndexError\n",
        "access_data(my_list, key='name') # This will not cause a KeyError here, but the logic won't access it correctly\n",
        "\n",
        "print(\"-\" * 20)\n",
        "\n",
        "# Example usage with a dictionary\n",
        "my_dict = {'name': 'Bob', 'age': 25}\n",
        "access_data(my_dict, key='age')\n",
        "access_data(my_dict, key='city')  # This will cause a KeyError\n",
        "access_data(my_dict, index=0)  # This will not cause an IndexError here, but the logic won't access it correctly\n",
        "\n",
        "print(\"-\" * 20)\n",
        "\n",
        "# Example with incorrect data type\n",
        "access_data(\"hello\", index=0)\n",
        "access_data(123, key='value')"
      ],
      "metadata": {
        "colab": {
          "base_uri": "https://localhost:8080/"
        },
        "id": "EuGrZG8Zgvkx",
        "outputId": "0793512d-1852-4115-f54e-62c3d0f31c70"
      },
      "execution_count": 46,
      "outputs": [
        {
          "output_type": "stream",
          "name": "stdout",
          "text": [
            "List element at index 1: 20\n",
            "Error: Index 5 is out of range for the list.\n",
            "Please provide an index to access the list.\n",
            "--------------------\n",
            "Dictionary value for key 'age': 25\n",
            "Error: Key 'city' not found in the dictionary.\n",
            "Please provide a key to access the dictionary.\n",
            "--------------------\n",
            "List element at index 1: 20\n",
            "Error: Index 5 is out of range for the list.\n",
            "Please provide an index to access the list.\n",
            "--------------------\n",
            "Dictionary value for key 'age': 25\n",
            "Error: Key 'city' not found in the dictionary.\n",
            "Please provide a key to access the dictionary.\n",
            "--------------------\n",
            "Data is neither a list nor a dictionary.\n",
            "Data is neither a list nor a dictionary.\n"
          ]
        }
      ]
    },
    {
      "cell_type": "markdown",
      "source": [
        "20.How would you open a file and read its contents using a context manager in Python."
      ],
      "metadata": {
        "id": "yva03bDiQrUj"
      }
    },
    {
      "cell_type": "code",
      "source": [
        "def read_file_with_context_manager(file_path):\n",
        "    \"\"\"\n",
        "    Opens a file using a context manager and reads its entire content.\n",
        "\n",
        "    Args:\n",
        "        file_path (str): The path to the file.\n",
        "\n",
        "    Returns:\n",
        "        str or None: The entire content of the file as a single string,\n",
        "                     or None if an error occurred (e.g., FileNotFoundError).\n",
        " \"\"\"\n",
        "    file_content = None\n",
        "    try:\n",
        "        with open(file_path, 'r') as file:\n",
        "            file_content = file.read()\n",
        "        print(f\"Successfully read content from '{file_path}'.\")\n",
        "    except FileNotFoundError:\n",
        "        print(f\"Error: The file '{file_path}' was not found.\")\n",
        "    except Exception as e:\n",
        "        print(f\"An unexpected error occurred: {e}\")\n",
        "    return file_content\n",
        "\n",
        "def read_file_line_by_line_context_manager(file_path):\n",
        "    \"\"\"\n",
        "    Opens a file using a context manager and reads its content line by line,\n",
        "    returning a list of lines.\n",
        "\n",
        "    Args:\n",
        "        file_path (str): The path to the file.\n",
        "\n",
        "    Returns:\n",
        "        list or None: A list where each element is a line from the file,\n",
        "                      or None if an error occurred.\n",
        "\"\"\"\n",
        "    lines = []\n",
        "    try:\n",
        "        with open(file_path, 'r') as file:\n",
        "            for line in file:\n",
        "                lines.append(line.rstrip('\\n'))  # Remove trailing newline character\n",
        "        print(f\"Successfully read lines from '{file_path}'.\")\n",
        "    except FileNotFoundError:\n",
        "        print(f\"Error: The file '{file_path}' was not found.\")\n",
        "    except Exception as e:\n",
        "        print(f\"An unexpected error occurred: {e}\")\n",
        "    return lines\n",
        "\n",
        "# Example usage: reading the entire file content\n",
        "file_to_read_all = 'my_document.txt'  # Replace with your file path\n",
        "content = read_file_with_context_manager(file_to_read_all)\n",
        "if content:\n",
        "    print(\"\\n--- Entire File Content ---\")\n",
        "    print(content)\n",
        "\n",
        "print(\"-\" * 20)\n"
      ],
      "metadata": {
        "colab": {
          "base_uri": "https://localhost:8080/"
        },
        "id": "Bzw1VbuLQxAF",
        "outputId": "fb15a18b-0a50-4d3a-e321-5c0d41b396b5"
      },
      "execution_count": 47,
      "outputs": [
        {
          "output_type": "stream",
          "name": "stdout",
          "text": [
            "Error: The file 'my_document.txt' was not found.\n",
            "--------------------\n"
          ]
        }
      ]
    },
    {
      "cell_type": "markdown",
      "source": [
        "21.Write a Python program that reads a file and prints the number of occurrences of a specific word."
      ],
      "metadata": {
        "id": "bXZXNq9jQxWL"
      }
    },
    {
      "cell_type": "code",
      "source": [
        "def count_word_occurrences(file_path, target_word):\n",
        "    \"\"\"\n",
        "    Reads a file and counts the number of occurrences of a specific word (case-insensitive).\n",
        "\n",
        "    Args:\n",
        "        file_path (str): The path to the file.\n",
        "        target_word (str): The word to count.\n",
        "\n",
        "    Returns:\n",
        "        int: The number of times the target word appears in the file, or None if an error occurs.\n",
        "    \"\"\"\n",
        "    count = 0\n",
        "    try:\n",
        "        with open(file_path, 'r', encoding='utf-8') as file:\n",
        "            for line in file:\n",
        "                # Convert both the line and the target word to lowercase for case-insensitive\n",
        "                counting\n",
        "                lower_line = line.lower()\n",
        "                lower_target_word = target_word.lower()\n",
        "                words_in_line = lower_line.split()  # Split the line into words\n",
        "                for word in words_in_line:\n",
        "                    # Remove punctuation from the word to ensure accurate matching\n",
        "                    cleaned_word = ''.join(char for char in word if char.isalnum())\n",
        "                    if cleaned_word == lower_target_word:\n",
        "                        count += 1\n",
        "        print(f\"The word '{target_word}' appears {count} times in the file '{file_path}'.\")\n",
        "        return count\n",
        "    except FileNotFoundError:\n",
        "        print(f\"Error: The file '{file_path}' was not found.\")\n",
        "        return None\n",
        "    except Exception as e:\n",
        "        print(f\"An error occurred: {e}\")\n",
        "        return None\n"
      ],
      "metadata": {
        "id": "hhABYNSpQ5pu"
      },
      "execution_count": 48,
      "outputs": []
    },
    {
      "cell_type": "code",
      "source": [
        "# Example usage in Asansol, West Bengal, India\n",
        "file_name = 'asansol_text.txt'  # Replace with the actual path to your file in Asansol\n",
        "word_to_count = 'asansol'\n",
        "\n",
        "# Create a sample file for testing in Asansol\n",
        "with open(file_name, 'w', encoding='utf-8') as f:\n",
        "    f.write(\"Welcome to Asansol, a vibrant city in West Bengal.\\n\")\n",
        "    f.write(\"Asansol is known for its industrial and cultural heritage.\\n\")\n",
        "    f.write(\"Many people visit Asansol throughout the year. Asansol is great!\\n\")\n",
        "    f.write(\"Let's explore more of Asansol.\\n\")\n",
        "\n",
        "occurrences = count_word_occurrences(file_name, word_to_count)\n",
        "\n",
        "if occurrences is not None:\n",
        "    print(f\"(Returned count for '{word_to_count}': {occurrences})\")\n",
        "\n",
        "# You can try counting other words relevant to Asansol or any other word\n",
        "# Example usage in Asansol, West Bengal, India\n",
        "file_name = 'asansol_text.txt'  # Replace with the actual path to your file in Asansol\n",
        "word_to_count = 'asansol'\n",
        "\n",
        "# Create a sample file for testing in Asansol\n",
        "with open(file_name, 'w', encoding='utf-8') as f:\n",
        "    f.write(\"Welcome to Asansol, a vibrant city in West Bengal.\\n\")\n",
        "    f.write(\"Asansol is known for its industrial and cultural heritage.\\n\")\n",
        "    f.write(\"Many people visit Asansol throughout the year. Asansol is great!\\n\")\n",
        "    f.write(\"Let's explore more of Asansol.\\n\")\n",
        "\n",
        "occurrences = count_word_occurrences(file_name, word_to_count)\n",
        "\n",
        "if occurrences is not None:\n",
        "    print(f\"(Returned count for '{word_to_count}': {occurrences})\")\n",
        "\n",
        "# You can try counting other words relevant to Asansol or any other word\n",
        "count_word_occurrences(file_name, 'city')\n",
        "count_word_occurrences(file_name, 'bengal')\n",
        "count_word_occurrences(file_name, 'heritage')"
      ],
      "metadata": {
        "colab": {
          "base_uri": "https://localhost:8080/"
        },
        "id": "l_MYHm2tkb2i",
        "outputId": "192c1b10-b8a1-4d82-b572-0c6f7bf54a6f"
      },
      "execution_count": 50,
      "outputs": [
        {
          "output_type": "stream",
          "name": "stdout",
          "text": [
            "An error occurred: name 'counting' is not defined\n",
            "An error occurred: name 'counting' is not defined\n",
            "An error occurred: name 'counting' is not defined\n",
            "An error occurred: name 'counting' is not defined\n",
            "An error occurred: name 'counting' is not defined\n"
          ]
        }
      ]
    },
    {
      "cell_type": "markdown",
      "source": [
        "23.Write a Python program that writes to a log file when an error occurs during file handling."
      ],
      "metadata": {
        "id": "IsQ7xwHERGFB"
      }
    },
    {
      "cell_type": "code",
      "source": [
        "import logging\n",
        "import datetime\n",
        "\n",
        "# Configure logging to write to a file\n",
        "log_file = 'file_handling_errors.log'\n",
        "logging.basicConfig(filename=log_file, level=logging.ERROR,\n",
        "                    format='%(asctime)s - %(levelname)s - %(module)s:%(lineno)d - %(message)s')\n",
        "\n",
        "def read_file_safely(file_path):\n",
        "    \"\"\"Reads a file and logs an error if it cannot be opened.\"\"\"\n",
        "    try:\n",
        "        with open(file_path, 'r') as file:\n",
        "            contents = file.read()\n",
        "            return contents\n",
        "    except FileNotFoundError:\n",
        "        logging.error(f\"File not found: {file_path}\")\n",
        "        return None\n",
        "    except Exception as e:\n",
        "        logging.error(f\"An error occurred while reading the file: {e}\")\n",
        "        return None\n",
        ""
      ],
      "metadata": {
        "id": "wLbty4RVmVwM"
      },
      "execution_count": 55,
      "outputs": []
    }
  ]
}